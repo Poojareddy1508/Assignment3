{
 "cells": [
  {
   "cell_type": "code",
   "execution_count": 1,
   "id": "c443d357-6bfd-4fb2-a93a-e5a7ca33f703",
   "metadata": {},
   "outputs": [],
   "source": [
    "#Name : Pooja Reddy Mettu\n",
    "#Banner Id : 916453840\n",
    "#Dataset Number = 38"
   ]
  },
  {
   "cell_type": "code",
   "execution_count": 2,
   "id": "a3441f4c-8ade-4e33-a59e-20ed62b5897d",
   "metadata": {},
   "outputs": [],
   "source": [
    "import pandas as pd\n",
    "from mlxtend.preprocessing import TransactionEncoder\n",
    "from mlxtend.frequent_patterns import fpgrowth, association_rules\n",
    "import seaborn as sns\n",
    "import matplotlib.pyplot as plt\n"
   ]
  },
  {
   "cell_type": "code",
   "execution_count": 3,
   "id": "7e279387-e8b9-4afa-8069-42ac6af3e78b",
   "metadata": {},
   "outputs": [],
   "source": [
    "df = pd.read_csv('E:/assg/Grocery_Items_38.csv')\n",
    "\n",
    "# Applying data cleaning to remove any missing values(NaN) in the dataset\n",
    "Data_clean=df.apply(lambda x: x.dropna().to_list(), axis=1)\n",
    "Data_cl= Data_clean.to_list()"
   ]
  },
  {
   "cell_type": "code",
   "execution_count": 4,
   "id": "36108521-01af-43f8-beb4-68cec1388e36",
   "metadata": {},
   "outputs": [],
   "source": [
    "#(c) Using minimum support = 0.01 and minimum confidence threshold = 0.1, what are the association rules you can extract from your dataset?"
   ]
  },
  {
   "cell_type": "code",
   "execution_count": 5,
   "id": "6293590f-c8d8-4d7e-812e-29eb7ed261d2",
   "metadata": {},
   "outputs": [],
   "source": [
    "# Use FP-Growth algorithm to find frequent itemsets\n",
    "te = TransactionEncoder()\n",
    "te_ary = te.fit(Data_cl).transform(Data_cl)\n",
    "df_encoded = pd.DataFrame(te_ary, columns=te.columns_)\n",
    "\n",
    "# Find frequent itemsets with minimum support = 0.01 using FP-Growth\n",
    "frequent_itemsets = fpgrowth(df_encoded, min_support=0.01, use_colnames=True)"
   ]
  },
  {
   "cell_type": "code",
   "execution_count": 6,
   "id": "0163c3a7-8238-491e-9cfb-9c76137b5133",
   "metadata": {},
   "outputs": [
    {
     "data": {
      "text/html": [
       "<div>\n",
       "<style scoped>\n",
       "    .dataframe tbody tr th:only-of-type {\n",
       "        vertical-align: middle;\n",
       "    }\n",
       "\n",
       "    .dataframe tbody tr th {\n",
       "        vertical-align: top;\n",
       "    }\n",
       "\n",
       "    .dataframe thead th {\n",
       "        text-align: right;\n",
       "    }\n",
       "</style>\n",
       "<table border=\"1\" class=\"dataframe\">\n",
       "  <thead>\n",
       "    <tr style=\"text-align: right;\">\n",
       "      <th></th>\n",
       "      <th>antecedents</th>\n",
       "      <th>consequents</th>\n",
       "      <th>antecedent support</th>\n",
       "      <th>consequent support</th>\n",
       "      <th>support</th>\n",
       "      <th>confidence</th>\n",
       "      <th>lift</th>\n",
       "      <th>leverage</th>\n",
       "      <th>conviction</th>\n",
       "      <th>zhangs_metric</th>\n",
       "    </tr>\n",
       "  </thead>\n",
       "  <tbody>\n",
       "    <tr>\n",
       "      <th>0</th>\n",
       "      <td>(rolls/buns)</td>\n",
       "      <td>(whole milk)</td>\n",
       "      <td>0.11125</td>\n",
       "      <td>0.156375</td>\n",
       "      <td>0.013875</td>\n",
       "      <td>0.124719</td>\n",
       "      <td>0.797564</td>\n",
       "      <td>-0.003522</td>\n",
       "      <td>0.963833</td>\n",
       "      <td>-0.222147</td>\n",
       "    </tr>\n",
       "    <tr>\n",
       "      <th>1</th>\n",
       "      <td>(other vegetables)</td>\n",
       "      <td>(whole milk)</td>\n",
       "      <td>0.11925</td>\n",
       "      <td>0.156375</td>\n",
       "      <td>0.013750</td>\n",
       "      <td>0.115304</td>\n",
       "      <td>0.737356</td>\n",
       "      <td>-0.004898</td>\n",
       "      <td>0.953576</td>\n",
       "      <td>-0.287965</td>\n",
       "    </tr>\n",
       "    <tr>\n",
       "      <th>2</th>\n",
       "      <td>(soda)</td>\n",
       "      <td>(whole milk)</td>\n",
       "      <td>0.09275</td>\n",
       "      <td>0.156375</td>\n",
       "      <td>0.010500</td>\n",
       "      <td>0.113208</td>\n",
       "      <td>0.723949</td>\n",
       "      <td>-0.004004</td>\n",
       "      <td>0.951322</td>\n",
       "      <td>-0.295921</td>\n",
       "    </tr>\n",
       "    <tr>\n",
       "      <th>3</th>\n",
       "      <td>(yogurt)</td>\n",
       "      <td>(whole milk)</td>\n",
       "      <td>0.08525</td>\n",
       "      <td>0.156375</td>\n",
       "      <td>0.011000</td>\n",
       "      <td>0.129032</td>\n",
       "      <td>0.825146</td>\n",
       "      <td>-0.002331</td>\n",
       "      <td>0.968606</td>\n",
       "      <td>-0.188084</td>\n",
       "    </tr>\n",
       "  </tbody>\n",
       "</table>\n",
       "</div>"
      ],
      "text/plain": [
       "          antecedents   consequents  antecedent support  consequent support  \\\n",
       "0        (rolls/buns)  (whole milk)             0.11125            0.156375   \n",
       "1  (other vegetables)  (whole milk)             0.11925            0.156375   \n",
       "2              (soda)  (whole milk)             0.09275            0.156375   \n",
       "3            (yogurt)  (whole milk)             0.08525            0.156375   \n",
       "\n",
       "    support  confidence      lift  leverage  conviction  zhangs_metric  \n",
       "0  0.013875    0.124719  0.797564 -0.003522    0.963833      -0.222147  \n",
       "1  0.013750    0.115304  0.737356 -0.004898    0.953576      -0.287965  \n",
       "2  0.010500    0.113208  0.723949 -0.004004    0.951322      -0.295921  \n",
       "3  0.011000    0.129032  0.825146 -0.002331    0.968606      -0.188084  "
      ]
     },
     "execution_count": 6,
     "metadata": {},
     "output_type": "execute_result"
    }
   ],
   "source": [
    "# Generate association rules with minimum confidence = 0.1\n",
    "rules = association_rules(frequent_itemsets, metric='confidence', min_threshold=0.1)\n",
    "rules"
   ]
  },
  {
   "cell_type": "code",
   "execution_count": 7,
   "id": "73e45367-2a9c-4abb-8825-2187202058c0",
   "metadata": {},
   "outputs": [],
   "source": [
    "#(d)Use minimum support values (msv): 0.001, 0.005, 0.01, 0.05 and minimum confidence threshold (mct): 0.05, 0.075, 0.1."
   ]
  },
  {
   "cell_type": "code",
   "execution_count": 8,
   "id": "b6f7327c-3d7d-4579-b09b-b7e921253dad",
   "metadata": {},
   "outputs": [
    {
     "data": {
      "image/png": "[encoded data removed]",
      "text/plain": [
       "<Figure size 1000x600 with 2 Axes>"
      ]
     },
     "metadata": {},
     "output_type": "display_data"
    }
   ],
   "source": [
    "# Define support and confidence values to explore\n",
    "support_values_msv = [0.001, 0.005, 0.01, 0.05]\n",
    "confidence_values_mct = [0.05, 0.075, 0.1]\n",
    "\n",
    "# Create an empty DataFrame to store the count results\n",
    "count_results = pd.DataFrame(index=support_values_msv, columns=confidence_values_mct)\n",
    "\n",
    "# Iterate through support and confidence values to find the number of association rules\n",
    "for support in support_values_msv:\n",
    "    for confidence in confidence_values_mct:\n",
    "        frequent_itemsets = fpgrowth(df_encoded, min_support=support, use_colnames=True)\n",
    "        rules = association_rules(frequent_itemsets, metric='confidence', min_threshold=confidence)\n",
    "        count_results.loc[support, confidence] = len(rules)\n",
    "\n",
    "\n",
    "count_results_numeric = count_results.apply(pd.to_numeric, errors='coerce')\n",
    "# Plot the heatmap\n",
    "plt.figure(figsize=(10, 6))\n",
    "sns.heatmap(count_results_numeric, annot=True, fmt='.1f', cmap='crest', cbar_kws={'label': 'Number of Association Rules'})\n",
    "plt.xlabel('Minimum Confidence Threshold')\n",
    "plt.ylabel('Minimum Support Value')\n",
    "plt.show()"
   ]
  },
  {
   "cell_type": "code",
   "execution_count": 9,
   "id": "928e4ff4-0905-4ca9-9780-273210532dfd",
   "metadata": {},
   "outputs": [],
   "source": [
    "#(e)List the association rule(s) (i.e., one or more rules depending on your dataset) that have the highest confidence for minimum support = 0.005."
   ]
  },
  {
   "cell_type": "code",
   "execution_count": 10,
   "id": "658b0241-f4d4-4ec0-a24d-7eb9b62a80e0",
   "metadata": {},
   "outputs": [
    {
     "data": {
      "text/html": [
       "<div>\n",
       "<style scoped>\n",
       "    .dataframe tbody tr th:only-of-type {\n",
       "        vertical-align: middle;\n",
       "    }\n",
       "\n",
       "    .dataframe tbody tr th {\n",
       "        vertical-align: top;\n",
       "    }\n",
       "\n",
       "    .dataframe thead th {\n",
       "        text-align: right;\n",
       "    }\n",
       "</style>\n",
       "<table border=\"1\" class=\"dataframe\">\n",
       "  <thead>\n",
       "    <tr style=\"text-align: right;\">\n",
       "      <th></th>\n",
       "      <th>antecedents</th>\n",
       "      <th>consequents</th>\n",
       "      <th>antecedent support</th>\n",
       "      <th>consequent support</th>\n",
       "      <th>support</th>\n",
       "      <th>confidence</th>\n",
       "      <th>lift</th>\n",
       "      <th>leverage</th>\n",
       "      <th>conviction</th>\n",
       "      <th>zhangs_metric</th>\n",
       "    </tr>\n",
       "  </thead>\n",
       "  <tbody>\n",
       "    <tr>\n",
       "      <th>4</th>\n",
       "      <td>(newspapers)</td>\n",
       "      <td>(whole milk)</td>\n",
       "      <td>0.038125</td>\n",
       "      <td>0.156375</td>\n",
       "      <td>0.00575</td>\n",
       "      <td>0.15082</td>\n",
       "      <td>0.964474</td>\n",
       "      <td>-0.000212</td>\n",
       "      <td>0.993458</td>\n",
       "      <td>-0.036882</td>\n",
       "    </tr>\n",
       "  </tbody>\n",
       "</table>\n",
       "</div>"
      ],
      "text/plain": [
       "    antecedents   consequents  antecedent support  consequent support  \\\n",
       "4  (newspapers)  (whole milk)            0.038125            0.156375   \n",
       "\n",
       "   support  confidence      lift  leverage  conviction  zhangs_metric  \n",
       "4  0.00575     0.15082  0.964474 -0.000212    0.993458      -0.036882  "
      ]
     },
     "execution_count": 10,
     "metadata": {},
     "output_type": "execute_result"
    }
   ],
   "source": [
    "# Find association rules with minimum support = 0.005\n",
    "frequent_itemsets = fpgrowth(df_encoded, min_support=0.005, use_colnames=True)\n",
    "rules = association_rules(frequent_itemsets, metric='confidence', min_threshold=0.1)\n",
    "\n",
    "# Identify rules with the highest confidence\n",
    "max_confidence_rule_is = rules[rules['confidence'] == rules['confidence'].max()]\n",
    "max_confidence_rule_is"
   ]
  },
  {
   "cell_type": "code",
   "execution_count": 11,
   "id": "18a8f9cd-e94f-4f0f-8365-84722d0eb030",
   "metadata": {},
   "outputs": [
    {
     "name": "stdout",
     "output_type": "stream",
     "text": [
      "The highest confidence value for minimum support = 0.005 is 0.15082\n"
     ]
    }
   ],
   "source": [
    "print(\"The highest confidence value for minimum support = 0.005 is 0.15082\")"
   ]
  },
  {
   "cell_type": "code",
   "execution_count": 12,
   "id": "31bd92a6-ddcc-414f-a4f1-1d40437a4ac8",
   "metadata": {},
   "outputs": [],
   "source": [
    "# References\n",
    "# 1. http://rasbt.github.io/mlxtend/user_guide/frequent_patterns/association_rules/\n",
    "# 2. https://seaborn.pydata.org/generated/seaborn.heatmap.html"
   ]
  },
  {
   "cell_type": "code",
   "execution_count": null,
   "id": "f7803408-9692-4e57-b004-b6b96dd19c22",
   "metadata": {},
   "outputs": [],
   "source": []
  },
  {
   "cell_type": "code",
   "execution_count": 13,
   "id": "406cb441-efdf-4aa4-b1f5-1881a8868bae",
   "metadata": {},
   "outputs": [],
   "source": [
    "#2. [Image Classification using CNN] Construct a 4-class classification model using a convolutional neural network with the following simple architecture"
   ]
  },
  {
   "cell_type": "code",
   "execution_count": null,
   "id": "e484d49d-0261-476b-999c-f6110b34d460",
   "metadata": {},
   "outputs": [],
   "source": []
  },
  {
   "cell_type": "code",
   "execution_count": 15,
   "id": "583e490e-db05-4fcc-9490-5f6c2cbaad21",
   "metadata": {},
   "outputs": [],
   "source": [
    "import cv2 \n",
    "import os\n",
    "import numpy as np\n",
    "from sklearn.model_selection import train_test_split\n",
    "import tensorflow as tf\n",
    "from tensorflow import keras\n",
    "from tensorflow.keras import Sequential,layers\n",
    "from tensorflow.keras.layers import Dense,Flatten,Conv2D,MaxPool2D,Dropout,BatchNormalization\n",
    "from tensorflow.keras.utils import to_categorical"
   ]
  },
  {
   "cell_type": "code",
   "execution_count": 20,
   "id": "5757a234-9acb-49e3-9ab8-3fde134e7d10",
   "metadata": {},
   "outputs": [],
   "source": [
    "# Define the paths to your image and annotation folders\n",
    "image_folder = \"D:/data mining assgn/Images1/\"\n",
    "annotation_folder = \"D:/data mining assgn/Annotation/\"\n",
    "\n",
    "# Define the classes and map them to numerical labels\n",
    "breed_classes = {\n",
    "    \"n02093256-Staffordshire_bullterrier\": 0,\n",
    "    \"n02111277-Newfoundland\": 1,\n",
    "    \"n02113023-Pembroke\": 2,\n",
    "    \"n02115641-dingo\": 3,\n",
    "}"
   ]
  },
  {
   "cell_type": "code",
   "execution_count": 21,
   "id": "0757b262-4704-440e-95fc-8f1ac1ecfe42",
   "metadata": {},
   "outputs": [],
   "source": [
    "# Initialize empty lists to store image data and labels\n",
    "breed_file = []\n",
    "breed_labels = []\n",
    "\n",
    "# Loop over the classes\n",
    "for class_name, label in breed_classes.items():\n",
    "    image_path = os.path.join(image_folder, class_name)\n",
    "    annotation_path = os.path.join(annotation_folder, class_name)\n",
    "\n",
    "    # Loop over the images in the current class\n",
    "    for file in os.listdir(image_path):\n",
    "        if file.endswith(\".jpg\"):  # Adjust the file extension based on your image format\n",
    "            image = cv2.imread(os.path.join(image_path, file))\n",
    "            breed_file.append(image)\n",
    "            breed_labels.append(label)\n"
   ]
  },
  {
   "cell_type": "code",
   "execution_count": 22,
   "id": "6abea808-db22-4e2d-9fa9-93da3c427dc7",
   "metadata": {},
   "outputs": [],
   "source": [
    "# Convert the lists to arrays\n",
    "x = np.array(breed_file)\n",
    "y = np.array(breed_labels)"
   ]
  },
  {
   "cell_type": "code",
   "execution_count": 23,
   "id": "df95d4c0-5dc1-46e7-bcbb-dcb9e622e88d",
   "metadata": {},
   "outputs": [],
   "source": [
    "# Convert labels to one-hot encoded format\n",
    "y = to_categorical(y, num_classes=len(breed_classes))"
   ]
  },
  {
   "cell_type": "code",
   "execution_count": 24,
   "id": "88d020b8-a8b6-45ec-ba05-70e2df28bd4b",
   "metadata": {},
   "outputs": [],
   "source": [
    "# Training and testing the dataset\n",
    "x_train, x_test, y_train, y_test = train_test_split(x, y, test_size=0.2)"
   ]
  },
  {
   "cell_type": "code",
   "execution_count": 37,
   "id": "b2552a5e-3414-4746-b129-7779a438dfe7",
   "metadata": {},
   "outputs": [
    {
     "name": "stdout",
     "output_type": "stream",
     "text": [
      "Model: \"sequential_7\"\n",
      "_________________________________________________________________\n",
      " Layer (type)                Output Shape              Param #   \n",
      "=================================================================\n",
      " conv2d_8 (Conv2D)           (None, 254, 254, 8)       224       \n",
      "                                                                 \n",
      " max_pooling2d_8 (MaxPoolin  (None, 127, 127, 8)       0         \n",
      " g2D)                                                            \n",
      "                                                                 \n",
      " flatten_8 (Flatten)         (None, 129032)            0         \n",
      "                                                                 \n",
      " dense_15 (Dense)            (None, 16)                2064528   \n",
      "                                                                 \n",
      " dense_16 (Dense)            (None, 4)                 68        \n",
      "                                                                 \n",
      "=================================================================\n",
      "Total params: 2064820 (7.88 MB)\n",
      "Trainable params: 2064820 (7.88 MB)\n",
      "Non-trainable params: 0 (0.00 Byte)\n",
      "_________________________________________________________________\n",
      "Epoch 1/20\n",
      "14/14 [==============================] - 4s 203ms/step - loss: 670.1392 - accuracy: 0.3098 - val_loss: 454.0714 - val_accuracy: 0.3091\n",
      "Epoch 2/20\n",
      "14/14 [==============================] - 2s 164ms/step - loss: 191.0992 - accuracy: 0.4032 - val_loss: 129.7859 - val_accuracy: 0.2909\n",
      "Epoch 3/20\n",
      "14/14 [==============================] - 2s 161ms/step - loss: 48.4647 - accuracy: 0.5148 - val_loss: 68.5384 - val_accuracy: 0.2545\n",
      "Epoch 4/20\n",
      "14/14 [==============================] - 2s 164ms/step - loss: 9.3313 - accuracy: 0.7084 - val_loss: 30.4097 - val_accuracy: 0.3545\n",
      "Epoch 5/20\n",
      "14/14 [==============================] - 2s 164ms/step - loss: 2.5124 - accuracy: 0.8952 - val_loss: 27.6975 - val_accuracy: 0.3455\n",
      "Epoch 6/20\n",
      "14/14 [==============================] - 2s 171ms/step - loss: 0.6088 - accuracy: 0.9522 - val_loss: 25.4016 - val_accuracy: 0.3636\n",
      "Epoch 7/20\n",
      "14/14 [==============================] - 2s 165ms/step - loss: 0.2306 - accuracy: 0.9841 - val_loss: 24.5197 - val_accuracy: 0.3364\n",
      "Epoch 8/20\n",
      "14/14 [==============================] - 2s 167ms/step - loss: 0.1242 - accuracy: 0.9932 - val_loss: 25.1890 - val_accuracy: 0.3545\n",
      "Epoch 9/20\n",
      "14/14 [==============================] - 2s 171ms/step - loss: 0.0377 - accuracy: 0.9977 - val_loss: 25.9569 - val_accuracy: 0.3455\n",
      "Epoch 10/20\n",
      "14/14 [==============================] - 3s 182ms/step - loss: 5.7422e-04 - accuracy: 1.0000 - val_loss: 26.2053 - val_accuracy: 0.3455\n",
      "Epoch 11/20\n",
      "14/14 [==============================] - 3s 206ms/step - loss: 2.9289e-04 - accuracy: 1.0000 - val_loss: 26.2519 - val_accuracy: 0.3364\n",
      "Epoch 12/20\n",
      "14/14 [==============================] - 3s 197ms/step - loss: 2.3288e-04 - accuracy: 1.0000 - val_loss: 26.2401 - val_accuracy: 0.3364\n",
      "Epoch 13/20\n",
      "14/14 [==============================] - 3s 195ms/step - loss: 1.9800e-04 - accuracy: 1.0000 - val_loss: 26.2255 - val_accuracy: 0.3364\n",
      "Epoch 14/20\n",
      "14/14 [==============================] - 3s 179ms/step - loss: 1.7737e-04 - accuracy: 1.0000 - val_loss: 26.2142 - val_accuracy: 0.3364\n",
      "Epoch 15/20\n",
      "14/14 [==============================] - 2s 175ms/step - loss: 1.6531e-04 - accuracy: 1.0000 - val_loss: 26.2026 - val_accuracy: 0.3364\n",
      "Epoch 16/20\n",
      "14/14 [==============================] - 3s 213ms/step - loss: 1.5216e-04 - accuracy: 1.0000 - val_loss: 26.1964 - val_accuracy: 0.3364\n",
      "Epoch 17/20\n",
      "14/14 [==============================] - 3s 222ms/step - loss: 1.4281e-04 - accuracy: 1.0000 - val_loss: 26.1882 - val_accuracy: 0.3364\n",
      "Epoch 18/20\n",
      "14/14 [==============================] - 4s 251ms/step - loss: 1.3511e-04 - accuracy: 1.0000 - val_loss: 26.1820 - val_accuracy: 0.3364\n",
      "Epoch 19/20\n",
      "14/14 [==============================] - 3s 188ms/step - loss: 1.2752e-04 - accuracy: 1.0000 - val_loss: 26.1781 - val_accuracy: 0.3364\n",
      "Epoch 20/20\n",
      "14/14 [==============================] - 3s 206ms/step - loss: 1.2110e-04 - accuracy: 1.0000 - val_loss: 26.1730 - val_accuracy: 0.3364\n"
     ]
    }
   ],
   "source": [
    "# CNN Model Building based on the given architecture\n",
    "\n",
    "model = keras.Sequential(\n",
    "    [\n",
    "        keras.layers.Conv2D(8, (3, 3), activation=\"relu\", input_shape=(256, 256, 3)),\n",
    "        keras.layers.MaxPooling2D(pool_size=(2, 2)),\n",
    "        keras.layers.Flatten(),\n",
    "        keras.layers.Dense(16, activation=\"relu\"),\n",
    "        keras.layers.Dense(len(breed_classes), activation=\"softmax\"),\n",
    "    ]\n",
    ")\n",
    "\n",
    "model.summary()\n",
    "\n",
    "model.compile(optimizer=\"adam\", loss=\"categorical_crossentropy\", metrics=[\"accuracy\"])\n",
    "\n",
    "models = model.fit(\n",
    "    x=x_train, y=y_train, validation_split=0.2, batch_size=32, epochs=20\n",
    ")"
   ]
  },
  {
   "cell_type": "code",
   "execution_count": 38,
   "id": "bb6456f1-8445-4741-b49c-661bab959863",
   "metadata": {},
   "outputs": [
    {
     "data": {
      "image/png": "[encoded data removed]",
      "text/plain": [
       "<Figure size 500x500 with 1 Axes>"
      ]
     },
     "metadata": {},
     "output_type": "display_data"
    }
   ],
   "source": [
    "# Plotting the learning curves for the above model\n",
    "import matplotlib.pyplot as plt\n",
    "\n",
    "fig, axs = plt.subplots(figsize=(5, 5))\n",
    "\n",
    "# Plot the training accuracy\n",
    "axs.plot(models.history[\"accuracy\"], label=\"train\")\n",
    "axs.plot(models.history[\"val_accuracy\"], label=\"val\")\n",
    "axs.set_xlabel(\"Number of Epochs\")\n",
    "axs.set_ylabel(\"Training and Validation Accuracy\")\n",
    "axs.legend()\n",
    "plt.show()"
   ]
  },
  {
   "cell_type": "code",
   "execution_count": null,
   "id": "3c39c2ec-05e6-405b-a771-015b7cfd0254",
   "metadata": {},
   "outputs": [],
   "source": []
  },
  {
   "cell_type": "code",
   "execution_count": 43,
   "id": "ee086e45-a55c-4b6a-bd56-c3c98f28be97",
   "metadata": {},
   "outputs": [
    {
     "name": "stdout",
     "output_type": "stream",
     "text": [
      "Model: \"sequential_10\"\n",
      "_________________________________________________________________\n",
      " Layer (type)                Output Shape              Param #   \n",
      "=================================================================\n",
      " conv2d_11 (Conv2D)          (None, 252, 252, 8)       608       \n",
      "                                                                 \n",
      " max_pooling2d_11 (MaxPooli  (None, 126, 126, 8)       0         \n",
      " ng2D)                                                           \n",
      "                                                                 \n",
      " flatten_11 (Flatten)        (None, 127008)            0         \n",
      "                                                                 \n",
      " dense_21 (Dense)            (None, 16)                2032144   \n",
      "                                                                 \n",
      " dense_22 (Dense)            (None, 4)                 68        \n",
      "                                                                 \n",
      "=================================================================\n",
      "Total params: 2032820 (7.75 MB)\n",
      "Trainable params: 2032820 (7.75 MB)\n",
      "Non-trainable params: 0 (0.00 Byte)\n",
      "_________________________________________________________________\n",
      "Epoch 1/20\n",
      "4/4 [==============================] - 14s 2s/step - loss: 369.5107 - accuracy: 0.2187 - val_loss: 134.9968 - val_accuracy: 0.2636\n",
      "Epoch 2/20\n",
      "4/4 [==============================] - 3s 714ms/step - loss: 71.2552 - accuracy: 0.3622 - val_loss: 25.5137 - val_accuracy: 0.2091\n",
      "Epoch 3/20\n",
      "4/4 [==============================] - 3s 713ms/step - loss: 13.8816 - accuracy: 0.4989 - val_loss: 10.5187 - val_accuracy: 0.3000\n",
      "Epoch 4/20\n",
      "4/4 [==============================] - 3s 661ms/step - loss: 5.8360 - accuracy: 0.5672 - val_loss: 5.3538 - val_accuracy: 0.3182\n",
      "Epoch 5/20\n",
      "4/4 [==============================] - 3s 676ms/step - loss: 2.0986 - accuracy: 0.6082 - val_loss: 3.0639 - val_accuracy: 0.3273\n",
      "Epoch 6/20\n",
      "4/4 [==============================] - 3s 687ms/step - loss: 0.9536 - accuracy: 0.7153 - val_loss: 2.6564 - val_accuracy: 0.3545\n",
      "Epoch 7/20\n",
      "4/4 [==============================] - 3s 675ms/step - loss: 0.6639 - accuracy: 0.8246 - val_loss: 3.0581 - val_accuracy: 0.3727\n",
      "Epoch 8/20\n",
      "4/4 [==============================] - 3s 688ms/step - loss: 0.4749 - accuracy: 0.8519 - val_loss: 4.1512 - val_accuracy: 0.3727\n",
      "Epoch 9/20\n",
      "4/4 [==============================] - 3s 646ms/step - loss: 0.3589 - accuracy: 0.8838 - val_loss: 4.6990 - val_accuracy: 0.3727\n",
      "Epoch 10/20\n",
      "4/4 [==============================] - 3s 755ms/step - loss: 0.2675 - accuracy: 0.9271 - val_loss: 4.7587 - val_accuracy: 0.3727\n",
      "Epoch 11/20\n",
      "4/4 [==============================] - 3s 687ms/step - loss: 0.2202 - accuracy: 0.9362 - val_loss: 7.0306 - val_accuracy: 0.3364\n",
      "Epoch 12/20\n",
      "4/4 [==============================] - 3s 689ms/step - loss: 0.1906 - accuracy: 0.9544 - val_loss: 6.2808 - val_accuracy: 0.3818\n",
      "Epoch 13/20\n",
      "4/4 [==============================] - 3s 666ms/step - loss: 0.1261 - accuracy: 0.9658 - val_loss: 7.5662 - val_accuracy: 0.3727\n",
      "Epoch 14/20\n",
      "4/4 [==============================] - 3s 715ms/step - loss: 0.1046 - accuracy: 0.9727 - val_loss: 7.5203 - val_accuracy: 0.3909\n",
      "Epoch 15/20\n",
      "4/4 [==============================] - 3s 797ms/step - loss: 0.0761 - accuracy: 0.9772 - val_loss: 8.4680 - val_accuracy: 0.3818\n",
      "Epoch 16/20\n",
      "4/4 [==============================] - 3s 699ms/step - loss: 0.0616 - accuracy: 0.9795 - val_loss: 11.0072 - val_accuracy: 0.3818\n",
      "Epoch 17/20\n",
      "4/4 [==============================] - 3s 810ms/step - loss: 0.0751 - accuracy: 0.9749 - val_loss: 10.1159 - val_accuracy: 0.3818\n",
      "Epoch 18/20\n",
      "4/4 [==============================] - 3s 731ms/step - loss: 0.0448 - accuracy: 0.9818 - val_loss: 8.4064 - val_accuracy: 0.3636\n",
      "Epoch 19/20\n",
      "4/4 [==============================] - 3s 688ms/step - loss: 0.0465 - accuracy: 0.9841 - val_loss: 8.2525 - val_accuracy: 0.3545\n",
      "Epoch 20/20\n",
      "4/4 [==============================] - 3s 762ms/step - loss: 0.0417 - accuracy: 0.9841 - val_loss: 8.7203 - val_accuracy: 0.3636\n"
     ]
    }
   ],
   "source": [
    "# My Rowan Banner ID ends with 0, so I'm doing experiment (a) - Train the CNN using 2 other filter sizes: 5 × 5 and 7 × 7\n",
    "\n",
    "# Experiment (a) - 5 × 5 filter size\n",
    "model2 = keras.Sequential(\n",
    "    [\n",
    "        keras.layers.Conv2D(8, (5, 5), activation=\"relu\", input_shape=(256, 256, 3)),\n",
    "        keras.layers.MaxPooling2D(pool_size=(2, 2)),\n",
    "        keras.layers.Flatten(),\n",
    "        keras.layers.Dense(16, activation=\"relu\"),\n",
    "        keras.layers.Dense(len(breed_classes), activation=\"softmax\"),\n",
    "    ]\n",
    ")\n",
    "\n",
    "model2.summary()\n",
    "\n",
    "model2.compile(optimizer=\"adam\", loss=\"categorical_crossentropy\", metrics=[\"accuracy\"])\n",
    "\n",
    "models2 = model2.fit(x=x_train, y=y_train, validation_split=0.2, batch_size=128, epochs=20)"
   ]
  },
  {
   "cell_type": "code",
   "execution_count": 44,
   "id": "c733cf54-6391-4161-90cf-8af793409a8f",
   "metadata": {},
   "outputs": [
    {
     "data": {
      "image/png": "[encoded data removed]",
      "text/plain": [
       "<Figure size 500x500 with 1 Axes>"
      ]
     },
     "metadata": {},
     "output_type": "display_data"
    }
   ],
   "source": [
    "# Plotting the learning curves for the above model\n",
    "fig, axs = plt.subplots(figsize=(5, 5))\n",
    "\n",
    "# Plot the training accuracy\n",
    "axs.plot(models2.history[\"accuracy\"], label=\"train\")\n",
    "axs.plot(models2.history[\"val_accuracy\"], label=\"val\")\n",
    "axs.set_xlabel(\"Number of Epochs\")\n",
    "axs.set_ylabel(\"Training and Validation Accuracy\")\n",
    "axs.legend()\n",
    "plt.show()"
   ]
  },
  {
   "cell_type": "code",
   "execution_count": 29,
   "id": "24fd4ba1-d4eb-4cf0-a4b5-6f6615bb325e",
   "metadata": {},
   "outputs": [
    {
     "name": "stdout",
     "output_type": "stream",
     "text": [
      "Model: \"sequential_3\"\n",
      "_________________________________________________________________\n",
      " Layer (type)                Output Shape              Param #   \n",
      "=================================================================\n",
      " conv2d_4 (Conv2D)           (None, 250, 250, 8)       1184      \n",
      "                                                                 \n",
      " max_pooling2d_4 (MaxPoolin  (None, 125, 125, 8)       0         \n",
      " g2D)                                                            \n",
      "                                                                 \n",
      " flatten_4 (Flatten)         (None, 125000)            0         \n",
      "                                                                 \n",
      " dense_7 (Dense)             (None, 16)                2000016   \n",
      "                                                                 \n",
      " dense_8 (Dense)             (None, 4)                 68        \n",
      "                                                                 \n",
      "=================================================================\n",
      "Total params: 2001268 (7.63 MB)\n",
      "Trainable params: 2001268 (7.63 MB)\n",
      "Non-trainable params: 0 (0.00 Byte)\n",
      "_________________________________________________________________\n",
      "Epoch 1/20\n",
      "4/4 [==============================] - 5s 683ms/step - loss: 1482.1444 - accuracy: 0.2642 - val_loss: 299.9552 - val_accuracy: 0.2545\n",
      "Epoch 2/20\n",
      "4/4 [==============================] - 2s 556ms/step - loss: 202.3171 - accuracy: 0.2392 - val_loss: 1.3862 - val_accuracy: 0.2636\n",
      "Epoch 3/20\n",
      "4/4 [==============================] - 3s 700ms/step - loss: 1.3867 - accuracy: 0.2961 - val_loss: 1.3861 - val_accuracy: 0.2636\n",
      "Epoch 4/20\n",
      "4/4 [==============================] - 3s 626ms/step - loss: 1.3777 - accuracy: 0.2984 - val_loss: 3.1121 - val_accuracy: 0.2545\n",
      "Epoch 5/20\n",
      "4/4 [==============================] - 3s 642ms/step - loss: 1.3868 - accuracy: 0.3075 - val_loss: 3.8336 - val_accuracy: 0.2727\n",
      "Epoch 6/20\n",
      "4/4 [==============================] - 3s 623ms/step - loss: 1.4091 - accuracy: 0.3189 - val_loss: 4.0648 - val_accuracy: 0.2636\n",
      "Epoch 7/20\n",
      "4/4 [==============================] - 3s 651ms/step - loss: 1.4015 - accuracy: 0.3121 - val_loss: 4.0654 - val_accuracy: 0.2818\n",
      "Epoch 8/20\n",
      "4/4 [==============================] - 3s 699ms/step - loss: 1.3697 - accuracy: 0.3212 - val_loss: 4.0343 - val_accuracy: 0.2727\n",
      "Epoch 9/20\n",
      "4/4 [==============================] - 3s 845ms/step - loss: 1.3459 - accuracy: 0.3417 - val_loss: 3.9961 - val_accuracy: 0.2909\n",
      "Epoch 10/20\n",
      "4/4 [==============================] - 3s 824ms/step - loss: 1.3341 - accuracy: 0.3440 - val_loss: 3.9579 - val_accuracy: 0.2727\n",
      "Epoch 11/20\n",
      "4/4 [==============================] - 3s 622ms/step - loss: 1.3232 - accuracy: 0.3531 - val_loss: 3.9275 - val_accuracy: 0.2636\n",
      "Epoch 12/20\n",
      "4/4 [==============================] - 3s 776ms/step - loss: 1.3165 - accuracy: 0.3554 - val_loss: 3.9070 - val_accuracy: 0.2545\n",
      "Epoch 13/20\n",
      "4/4 [==============================] - 4s 977ms/step - loss: 1.3124 - accuracy: 0.3508 - val_loss: 3.8931 - val_accuracy: 0.2727\n",
      "Epoch 14/20\n",
      "4/4 [==============================] - 4s 953ms/step - loss: 1.3088 - accuracy: 0.3508 - val_loss: 3.8859 - val_accuracy: 0.2727\n",
      "Epoch 15/20\n",
      "4/4 [==============================] - 4s 969ms/step - loss: 1.3063 - accuracy: 0.3508 - val_loss: 3.8831 - val_accuracy: 0.2727\n",
      "Epoch 16/20\n",
      "4/4 [==============================] - 4s 919ms/step - loss: 1.3032 - accuracy: 0.3531 - val_loss: 3.8825 - val_accuracy: 0.2727\n",
      "Epoch 17/20\n",
      "4/4 [==============================] - 4s 919ms/step - loss: 1.3007 - accuracy: 0.3554 - val_loss: 3.8839 - val_accuracy: 0.2727\n",
      "Epoch 18/20\n",
      "4/4 [==============================] - 4s 878ms/step - loss: 1.2986 - accuracy: 0.3576 - val_loss: 3.8868 - val_accuracy: 0.2727\n",
      "Epoch 19/20\n",
      "4/4 [==============================] - 4s 900ms/step - loss: 1.2963 - accuracy: 0.3599 - val_loss: 3.8902 - val_accuracy: 0.2727\n",
      "Epoch 20/20\n",
      "4/4 [==============================] - 3s 833ms/step - loss: 1.2936 - accuracy: 0.3599 - val_loss: 3.8934 - val_accuracy: 0.2727\n"
     ]
    }
   ],
   "source": [
    "# Experiment (a) - 7 × 7 filter size\n",
    "model3 = keras.Sequential(\n",
    "    [\n",
    "        keras.layers.Conv2D(8, (7, 7), activation=\"relu\", input_shape=(256, 256, 3)),\n",
    "        keras.layers.MaxPooling2D(pool_size=(2, 2)),\n",
    "        keras.layers.Flatten(),\n",
    "        keras.layers.Dense(16, activation=\"relu\"),\n",
    "        keras.layers.Dense(len(breed_classes), activation=\"softmax\"),\n",
    "    ]\n",
    ")\n",
    "\n",
    "model3.summary()\n",
    "\n",
    "model3.compile(optimizer=\"adam\", loss=\"categorical_crossentropy\", metrics=[\"accuracy\"])\n",
    "\n",
    "models3 = model3.fit(x=x_train, y=y_train, validation_split=0.2, batch_size=128, epochs=20)"
   ]
  },
  {
   "cell_type": "code",
   "execution_count": 30,
   "id": "ffe270c6-4b0e-4e75-b1b1-479af194a48f",
   "metadata": {},
   "outputs": [
    {
     "data": {
      "image/png": "[encoded data removed]",
      "text/plain": [
       "<Figure size 500x500 with 1 Axes>"
      ]
     },
     "metadata": {},
     "output_type": "display_data"
    }
   ],
   "source": [
    "# Plotting the learning curves for the above model\n",
    "fig, axs = plt.subplots(figsize=(5, 5))\n",
    "\n",
    "# Plot the training accuracy\n",
    "axs.plot(models3.history[\"accuracy\"], label=\"train\")\n",
    "axs.plot(models3.history[\"val_accuracy\"], label=\"val\")\n",
    "axs.set_xlabel(\"Number of Epochs\")\n",
    "axs.set_ylabel(\"Training and Validation Accuracy\")\n",
    "axs.legend()\n",
    "plt.show()"
   ]
  },
  {
   "cell_type": "code",
   "execution_count": 47,
   "id": "19a2d85e-bf10-499f-93f2-729ae93e8ea9",
   "metadata": {},
   "outputs": [
    {
     "name": "stdout",
     "output_type": "stream",
     "text": [
      "Based on my observation by the performace, the first model has high accuracy compared to that of the other two models so, it's overfitting\n",
      "Based on my observation, all the models 5x5 and 7x7 are also overfitting, having high traning accuracies\n"
     ]
    }
   ],
   "source": [
    "print(\"Based on my observation by the performace, the first model has high accuracy compared to that of the other two models so, it's overfitting\")\n",
    "#For 5x5 \n",
    "print(\"Based on my observation, all the models 5x5 and 7x7 are also overfitting, having high traning accuracies\")"
   ]
  },
  {
   "cell_type": "code",
   "execution_count": null,
   "id": "a913fcc7-9431-489f-95a6-8a88f0a2f8a6",
   "metadata": {},
   "outputs": [],
   "source": []
  },
  {
   "cell_type": "code",
   "execution_count": 48,
   "id": "f8b0472b-bc5b-4f9f-9f68-271251c83b79",
   "metadata": {},
   "outputs": [],
   "source": [
    "# References\n",
    "# 1. https://keras.io/examples/vision/mnist_convnet/\n",
    "# 2. https://www.tensorflow.org/api_docs/python/tf/keras/utils/to_categorical\n",
    "# 3. https://www.tensorflow.org/guide/keras/train_and_evaluatehttps://www.tensorflow.org/guide/keras/train_and_evaluate\n",
    "# 4. https://www.tensorflow.org/guide/keras/train_and_evaluate\n",
    "# 5. https://towardsdatascience.com/a-simple-cnn-multi-image-classifier-31c463324fa"
   ]
  },
  {
   "cell_type": "code",
   "execution_count": null,
   "id": "02cb03ad-5fab-4249-8d49-66292d4e2609",
   "metadata": {},
   "outputs": [],
   "source": []
  }
 ],
 "metadata": {
  "kernelspec": {
   "display_name": "Python 3 (ipykernel)",
   "language": "python",
   "name": "python3"
  },
  "language_info": {
   "codemirror_mode": {
    "name": "ipython",
    "version": 3
   },
   "file_extension": ".py",
   "mimetype": "text/x-python",
   "name": "python",
   "nbconvert_exporter": "python",
   "pygments_lexer": "ipython3",
   "version": "3.10.11"
  }
 },
 "nbformat": 4,
 "nbformat_minor": 5
}
